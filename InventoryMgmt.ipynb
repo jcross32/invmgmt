{
 "cells": [
  {
   "cell_type": "markdown",
   "id": "c7ed7542-e583-46ba-87d1-2b5429a71446",
   "metadata": {},
   "source": [
    "# Inventory Management Mini-Project by Josh Cross"
   ]
  },
  {
   "cell_type": "markdown",
   "id": "394d3ba6-3555-426a-9f51-762f88d9e377",
   "metadata": {},
   "source": [
    "Create a simple inventory management system. The system should be able to handle basic operations for managing product inventory for a small store. The tasks should include adding new products, updating existing product information, calculating inventory values, and displaying all products in the inventory.\n",
    "\n",
    "Requirements:\n",
    "\n",
    "    Product:\n",
    "        Each product should have an ID, a name, a quantity in stock, and a price per unit.\n",
    "        Implement methods to update the product's quantity and price.\n",
    "\n",
    "    Inventory:\n",
    "        Maintain a list of all products in the inventory.\n",
    "        Implement methods to:\n",
    "            Add a new product.\n",
    "            Remove a product by ID.\n",
    "            Update the quantity of a product.\n",
    "            Calculate the total value of the inventory (total price * quantity).\n",
    "            List all products in the inventory.\n",
    "\n",
    "    Testing:\n",
    "        Write a simple main function or test script to demonstrate:\n",
    "            Adding a few products to the inventory.\n",
    "            Updating product details.\n",
    "            Removing a product.\n",
    "            Displaying the inventory list and total inventory value."
   ]
  },
  {
   "cell_type": "markdown",
   "id": "6c1531fe-b58a-4396-acab-1e98bb6b9ad2",
   "metadata": {},
   "source": [
    "### <div class=\"alert alert-block alert-warning\"> <b>Section 1: Importing dependencies and initial class creation"
   ]
  },
  {
   "cell_type": "code",
   "execution_count": 1,
   "id": "a977b06e-3a80-4010-9ba9-a11ddc558251",
   "metadata": {},
   "outputs": [],
   "source": [
    "# importing dependendencies and creating a class to house all of the functions for this program.\n",
    "# also creating \"__init__\" function to have the class first start by initizialzing itself.\n",
    "\n",
    "import numpy as np\n",
    "import pandas as pd\n",
    "\n",
    "class invmgmt:\n",
    "    def __init__(self):\n",
    "        self.invmgmt = {}"
   ]
  },
  {
   "cell_type": "code",
   "execution_count": 2,
   "id": "d494974e",
   "metadata": {},
   "outputs": [],
   "source": [
    "# adding inv_add function to use the empty self.invmgmt list to then add the \n",
    "# self, item_id, item_name, stock, and price info to each corresponding variable.\n",
    "\n",
    "class invmgmt:\n",
    "    def __init__(self):\n",
    "        self.invmgmt = {}\n",
    "\n",
    "    def inv_add(self, item_id, item_name, stock, price):\n",
    "        self.invmgmt[item_id] = {\"item_name\": item_name, \"stock\": stock, \"price\": price}"
   ]
  },
  {
   "cell_type": "code",
   "execution_count": null,
   "id": "5de0ac8d",
   "metadata": {},
   "outputs": [],
   "source": [
    "# adding update_inv fuction to update the inventory by checking the item name, stock, and price against the item being updated.\n",
    "# for each item being added, it is checking if the item is not in the inventory, an error is given.\n",
    "\n",
    "class invmgmt:\n",
    "    def __init__(self):\n",
    "        self.invmgmt = {}\n",
    "\n",
    "    def inv_add(self, item_id, item_name, stock, price):\n",
    "        self.invmgmt[item_id] = {\"item_name\": item_name, \"stock\": stock, \"price\": price}\n",
    "\n",
    "    def update_inv(self, item_id, stock, price):\n",
    "        if item_id in self.invmgmt:\n",
    "            self.invmgmt[item_id][\"stock\"] = stock\n",
    "            self.invmgmt[item_id][\"price\"] = price\n",
    "        else:\n",
    "            print(\"Error - Item Not in Inventory\")"
   ]
  },
  {
   "cell_type": "code",
   "execution_count": null,
   "id": "4ecd63ba",
   "metadata": {},
   "outputs": [],
   "source": [
    "# adding item_details function to show a basic list of each item's name, stock count, and price. ***add info about f-string***\n",
    "\n",
    "class invmgmt:\n",
    "    def __init__(self):\n",
    "        self.invmgmt = {}\n",
    "\n",
    "    def inv_add(self, item_id, item_name, stock, price):\n",
    "        self.invmgmt[item_id] = {\"item_name\": item_name, \"stock\": stock, \"price\": price}\n",
    "\n",
    "    def update_inv(self, item_id, stock, price):\n",
    "        if item_id in self.invmgmt:\n",
    "            self.invmgmt[item_id][\"stock\"] = stock\n",
    "            self.invmgmt[item_id][\"price\"] = price\n",
    "        else:\n",
    "            print(\"Error - Item Not in Inventory\")\n",
    "\n",
    "    def item_details(self, item_id):\n",
    "        if item_id in self.invmgmt:\n",
    "            item = self.invmgmt[item_id]\n",
    "            return f\"Product Name: {item['item_name']}, Stock Count: {item['stock']}, Price: {item['price']}\"\n",
    "        else:\n",
    "            return \"Error - Item Not in Inventory\""
   ]
  },
  {
   "cell_type": "code",
   "execution_count": null,
   "id": "9e0cb8e2",
   "metadata": {},
   "outputs": [],
   "source": [
    "# adding get_inventory function to return the info that is added to the \"item_id\" and \"item\" varibles\n",
    "# it is a tuple containing each piece of info for each item that is added to the variables\n",
    "# it will be used later to modify the input info to be able to use in a pandas dataframe\n",
    "\n",
    "class invmgmt:\n",
    "    def __init__(self):\n",
    "        self.invmgmt = {}\n",
    "\n",
    "    def inv_add(self, item_id, item_name, stock, price):\n",
    "        self.invmgmt[item_id] = {\"item_name\": item_name, \"stock\": stock, \"price\": price}\n",
    "\n",
    "    def update_inv(self, item_id, stock, price):\n",
    "        if item_id in self.invmgmt:\n",
    "            self.invmgmt[item_id][\"stock\"] = stock\n",
    "            self.invmgmt[item_id][\"price\"] = price\n",
    "        else:\n",
    "            print(\"Error - Item Not in Inventory\")\n",
    "\n",
    "    def item_details(self, item_id):\n",
    "        if item_id in self.invmgmt:\n",
    "            item = self.invmgmt[item_id]\n",
    "            return f\"Product Name: {item['item_name']}, Stock Count: {item['stock']}, Price: {item['price']}\"\n",
    "        else:\n",
    "            return \"Error - Item Not in Inventory\"\n",
    "\n",
    "    def get_inventory(self):\n",
    "        return [(item_id, item['item_name'], item['stock'], item['price']) for item_id, item in self.invmgmt.items()]"
   ]
  },
  {
   "cell_type": "code",
   "execution_count": 3,
   "id": "1240643b",
   "metadata": {},
   "outputs": [],
   "source": [
    "# using the entire invmgmt class to add and update an item in the inventory \"manually\"\n",
    "import numpy as np\n",
    "import pandas as pd\n",
    "\n",
    "class invmgmt:\n",
    "    def __init__(self):\n",
    "        self.invmgmt = {}\n",
    "\n",
    "    def inv_add(self, item_id, item_name, stock, price):\n",
    "        self.invmgmt[item_id] = {\"item_name\": item_name, \"stock\": stock, \"price\": price}\n",
    "\n",
    "    def update_inv(self, item_id, stock, price):\n",
    "        if item_id in self.invmgmt:\n",
    "            self.invmgmt[item_id][\"stock\"] = stock\n",
    "            self.invmgmt[item_id][\"price\"] = price\n",
    "        else:\n",
    "            print(\"Error - Item Not in Inventory\")\n",
    "\n",
    "    def item_details(self, item_id):\n",
    "        if item_id in self.invmgmt:\n",
    "            item = self.invmgmt[item_id]\n",
    "            return f\"Product Name: {item['item_name']}, Stock Count: {item['stock']}, Price: {item['price']}\"\n",
    "        else:\n",
    "            return \"Error - Item Not in Inventory\"\n",
    "\n",
    "    def get_inventory(self):\n",
    "        return [(item_id, item['item_name'], item['stock'], item['price']) for item_id, item in self.invmgmt.items()]"
   ]
  },
  {
   "cell_type": "markdown",
   "id": "3f5e571b-2d27-44c2-86f3-2529fb59f0b2",
   "metadata": {},
   "source": [
    "### <div class=\"alert alert-block alert-warning\"> <b>Section 2 - Adding/Updating inventory items</div>"
   ]
  },
  {
   "cell_type": "code",
   "execution_count": 4,
   "id": "a8208ede-0dcc-46f6-8100-6257d35eca74",
   "metadata": {},
   "outputs": [],
   "source": [
    "# adding inv variable to utilize invmgmt class functions\n",
    "inv = invmgmt()"
   ]
  },
  {
   "cell_type": "code",
   "execution_count": 5,
   "id": "afc93d34-16cf-4f1e-9104-99c509088e19",
   "metadata": {},
   "outputs": [
    {
     "name": "stdout",
     "output_type": "stream",
     "text": [
      "\n",
      "Current Inventory:\n",
      "('i1', 'Screws', 500, 0.25)\n",
      "('i2', 'Nails', 500, 0.05)\n",
      "('i3', 'Hammers', 165, 7.99)\n",
      "('i4', 'Wrenches', 132, 9.25)\n"
     ]
    }
   ],
   "source": [
    "# adding items manually - wanting to modify this to take in the updates through an input function instead\n",
    "inv.inv_add(\"i1\", \"Screws\", 500, 0.25)\n",
    "inv.inv_add(\"i2\", \"Nails\", 500, 0.05)\n",
    "inv.inv_add(\"i3\", \"Hammers\", 165, 7.99)\n",
    "inv.inv_add(\"i4\", \"Wrenches\", 132, 9.25)\n",
    "\n",
    "#print(inv.item_details(\"i1\"))\n",
    "#print(inv.item_details(\"i2\"))\n",
    "#print(inv.item_details(\"i3\"))\n",
    "#print(inv.item_details(\"i4\"))\n",
    "\n",
    "# printing current inventory - should change it to look nicer\n",
    "print(\"\\nCurrent Inventory:\")\n",
    "for item in inv.get_inventory():\n",
    "    print(item)"
   ]
  },
  {
   "cell_type": "code",
   "execution_count": 6,
   "id": "0711646d-1e51-408f-9376-2e8d11b446d7",
   "metadata": {},
   "outputs": [
    {
     "name": "stdout",
     "output_type": "stream",
     "text": [
      "Item Details:\n",
      "Product Name: Screws, Stock Count: 500, Price: 0.25\n",
      "\n",
      "Update the price of the item code - 'i1':\n",
      "Product Name: Screws, Stock Count: 600, Price: 0.31\n"
     ]
    }
   ],
   "source": [
    "# manually updating one item\n",
    "print(\"Item Details:\")\n",
    "print(inv.item_details(\"i1\"))\n",
    "print(\"\\nUpdate the price of the item code - 'i1':\")\n",
    "inv.update_inv(\"i1\", 600, 0.31)\n",
    "print(inv.item_details(\"i1\"))"
   ]
  },
  {
   "cell_type": "code",
   "execution_count": null,
   "id": "b6c85330-993c-4e5c-bd36-76983d3018d7",
   "metadata": {},
   "outputs": [],
   "source": [
    "# needed to add a new function to the invmgmt class to have the info input by the user, rather than listing it out through the code manually\n",
    "def add_item_input(self):\n",
    "        item_id = input(\"Enter item ID: \")\n",
    "        item_name = input(\"Enter item name: \")\n",
    "        stock = int(input(\"Enter stock count: \"))\n",
    "        price = float(input(\"Enter price: \"))\n",
    "        self.inv_add(item_id, item_name, stock, price)"
   ]
  },
  {
   "cell_type": "code",
   "execution_count": 4,
   "id": "f833ac2f",
   "metadata": {},
   "outputs": [],
   "source": [
    "import numpy as np\n",
    "import pandas as pd\n",
    "\n",
    "class invmgmt:\n",
    "    def __init__(self):\n",
    "        self.invmgmt = {}\n",
    "\n",
    "    def inv_add(self, item_id, item_name, stock, price):\n",
    "        self.invmgmt[item_id] = {\"item_name\": item_name, \"stock\": stock, \"price\": price}\n",
    "\n",
    "    def update_inv(self, item_id, stock, price):\n",
    "        if item_id in self.invmgmt:\n",
    "            self.invmgmt[item_id][\"stock\"] = stock\n",
    "            self.invmgmt[item_id][\"price\"] = price\n",
    "        else:\n",
    "            print(\"Error - Item Not in Inventory\")\n",
    "\n",
    "    def item_details(self, item_id):\n",
    "        if item_id in self.invmgmt:\n",
    "            item = self.invmgmt[item_id]\n",
    "            return f\"Product Name: {item['item_name']}, Stock Count: {item['stock']}, Price: {item['price']}\"\n",
    "        else:\n",
    "            return \"Error - Item Not in Inventory\"\n",
    "\n",
    "    def get_inventory(self):\n",
    "        return [{\"Item ID\": item_id, \"Item Name\": item['item_name'], \"Stock\": item['stock'], \"Price\": item['price']} for item_id, item in self.invmgmt.items()]\n",
    "\n",
    "    def add_item_input(self):\n",
    "        item_id = input(\"Enter item ID: \")\n",
    "        item_name = input(\"Enter item name: \")\n",
    "        stock = int(input(\"Enter stock count: \"))\n",
    "        price = float(input(\"Enter price: \"))\n",
    "        self.inv_add(item_id, item_name, stock, price)\n",
    "\n",
    "# adding inv variable to utilize invmgmt class functions easier\n",
    "inv = invmgmt()"
   ]
  },
  {
   "cell_type": "code",
   "execution_count": 5,
   "id": "f144a3dc-e8d8-47c4-b06b-332d217eb8d5",
   "metadata": {},
   "outputs": [
    {
     "name": "stdin",
     "output_type": "stream",
     "text": [
      "Enter item ID:  i1\n",
      "Enter item name:  hammer\n",
      "Enter stock count:  93\n",
      "Enter price:  3.99\n"
     ]
    },
    {
     "name": "stdout",
     "output_type": "stream",
     "text": [
      "\n",
      "Current Inventory:\n",
      "{'Item ID': 'i1', 'Item Name': 'hammer', 'Stock': 93, 'Price': 3.99}\n",
      "\n",
      "Update the details of an item:\n"
     ]
    },
    {
     "name": "stdin",
     "output_type": "stream",
     "text": [
      "Enter item ID to update:  i1\n",
      "Enter new stock count:  93\n",
      "Enter new price:  3.99\n"
     ]
    },
    {
     "name": "stdout",
     "output_type": "stream",
     "text": [
      "\n",
      "  Item ID Item Name  Stock  Price\n",
      "0      i1    hammer     93   3.99\n"
     ]
    }
   ],
   "source": [
    "# using the add_item_input function to access the info that the user enters in\n",
    "inv.add_item_input()\n",
    "\n",
    "# printing current inventory - should change it to look nicer\n",
    "print(\"\\nCurrent Inventory:\")\n",
    "for item in inv.get_inventory():\n",
    "    print(item)\n",
    "\n",
    "# updating item details - should have this be a y/n input\n",
    "print(\"\\nUpdate the details of an item:\")\n",
    "item_id = input(\"Enter item ID to update: \")\n",
    "stock = int(input(\"Enter new stock count: \"))\n",
    "price = float(input(\"Enter new price: \"))\n",
    "inv.update_inv(item_id, stock, price)\n",
    "\n",
    "# creating basic Pandas dataframe using the get_inventory function that converted the info into a tuple\n",
    "df_info = inv.get_inventory()\n",
    "dataframe = pd.DataFrame(df_info)\n",
    "\n",
    "# creating a space between the outputs and then displaying the DataFrame\n",
    "print()\n",
    "print(dataframe)"
   ]
  },
  {
   "cell_type": "code",
   "execution_count": 13,
   "id": "b01c2024",
   "metadata": {},
   "outputs": [
    {
     "name": "stdin",
     "output_type": "stream",
     "text": [
      "\n",
      "Would you like to update an item? Y/N:  i1\n"
     ]
    },
    {
     "name": "stdout",
     "output_type": "stream",
     "text": [
      "Invalid input. Please enter 'Y' or 'N'.\n"
     ]
    },
    {
     "name": "stdin",
     "output_type": "stream",
     "text": [
      "\n",
      "Would you like to update an item? Y/N:  Y\n"
     ]
    },
    {
     "name": "stdout",
     "output_type": "stream",
     "text": [
      "\n",
      "Update the details of an item:\n"
     ]
    },
    {
     "name": "stdin",
     "output_type": "stream",
     "text": [
      "Enter item ID to update:  i1\n",
      "Enter new stock count:  30\n",
      "Enter new price:  3.99\n"
     ]
    },
    {
     "name": "stdout",
     "output_type": "stream",
     "text": [
      "\n",
      "Current Inventory:\n",
      "{'Item ID': 'i1', 'Item Name': 'wrench', 'Stock': 30, 'Price': 3.99}\n"
     ]
    }
   ],
   "source": [
    "# updating item details using a while loop to take in input through a Y/N prompt\n",
    "while True:\n",
    "    yesnoinput = input(\"\\nWould you like to update an item? Y/N: \")\n",
    "\n",
    "    if yesnoinput.upper() == 'Y':\n",
    "        print(\"\\nUpdate the details of an item:\")\n",
    "        item_id = input(\"Enter item ID to update: \")\n",
    "        stock = int(input(\"Enter new stock count: \"))\n",
    "        price = float(input(\"Enter new price: \"))\n",
    "        inv.update_inv(item_id, stock, price)\n",
    "        break\n",
    "    elif yesnoinput.upper() == 'N':\n",
    "        break\n",
    "    else:\n",
    "        print(\"Invalid input. Please enter 'Y' or 'N'.\")\n",
    "\n",
    "# printing current inventory - should change it to look nicer\n",
    "print(\"\\nCurrent Inventory:\")\n",
    "for item in inv.get_inventory():\n",
    "    print(item)"
   ]
  },
  {
   "cell_type": "markdown",
   "id": "c984c8b9-0ed5-4043-8d54-fc232d447648",
   "metadata": {},
   "source": [
    "### <div class=\"alert alert-block alert-warning\"> <b>Section 3 - Using Pandas to create a dataframe for the Inventory info"
   ]
  },
  {
   "cell_type": "code",
   "execution_count": 6,
   "id": "3222f4ee-896c-47bf-a71b-5d4da670e95d",
   "metadata": {},
   "outputs": [
    {
     "name": "stdout",
     "output_type": "stream",
     "text": [
      "  Item ID Item Name  Stock  Price\n",
      "0      i1    hammer     93   3.99\n"
     ]
    }
   ],
   "source": [
    "# putting the info pulled from the into a dataframe - first working dataframe that shows the stock count and info.\n",
    "# it is showing a 0 under the Item ID column of the dataframe, I need to remove that and make the columns indented to the left.\n",
    "df_info = inv.get_inventory()\n",
    "dataframe = pd.DataFrame(df_info, columns=[\"Item ID\", \"Item Name\", \"Stock\", \"Price\"])\n",
    "print(dataframe)"
   ]
  },
  {
   "cell_type": "code",
   "execution_count": 15,
   "id": "3341bcf3-c5e3-44e3-8836-6912ceb341c9",
   "metadata": {},
   "outputs": [
    {
     "name": "stdout",
     "output_type": "stream",
     "text": [
      "Item ID Item Name  Stock  Price\n",
      "i1      wrench    30     3.99  \n"
     ]
    }
   ],
   "source": [
    "# putting the info pulled from the into a dataframe, need to notate that the index was showing a 0 and also modified it to be on the left\n",
    "df_info = inv.get_inventory()\n",
    "dataframe = pd.DataFrame(df_info, columns=[\"Item ID\", \"Item Name\", \"Stock\", \"Price\"])\n",
    "print(dataframe.to_string(index=False, justify='left'))"
   ]
  },
  {
   "cell_type": "code",
   "execution_count": null,
   "id": "a5467305-683c-4527-8aa3-05633c03aa2b",
   "metadata": {},
   "outputs": [],
   "source": []
  },
  {
   "cell_type": "code",
   "execution_count": null,
   "id": "c8e6a1cf-6799-4507-a085-212a0e9e58e6",
   "metadata": {},
   "outputs": [],
   "source": []
  }
 ],
 "metadata": {
  "kernelspec": {
   "display_name": "Python 3 (ipykernel)",
   "language": "python",
   "name": "python3"
  },
  "language_info": {
   "codemirror_mode": {
    "name": "ipython",
    "version": 3
   },
   "file_extension": ".py",
   "mimetype": "text/x-python",
   "name": "python",
   "nbconvert_exporter": "python",
   "pygments_lexer": "ipython3",
   "version": "3.12.2"
  }
 },
 "nbformat": 4,
 "nbformat_minor": 5
}
