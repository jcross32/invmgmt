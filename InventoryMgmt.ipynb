{
 "cells": [
  {
   "cell_type": "code",
   "execution_count": null,
   "id": "641a4e49",
   "metadata": {},
   "outputs": [],
   "source": [
    "#Create a simple inventory management system. The system should be able to handle basic operations for managing product inventory for a small store. The tasks should include adding new products, updating existing product information, calculating inventory values, and displaying all products in the inventory.\n",
    "#\n",
    "#Requirements:\n",
    "#\n",
    "#    Product:\n",
    "#        Each product should have an ID, a name, a quantity in stock, and a price per unit.\n",
    "#        Implement methods to update the product's quantity and price.\n",
    "#\n",
    "#    Inventory:\n",
    "#        Maintain a list of all products in the inventory.\n",
    "#        Implement methods to:\n",
    "#            Add a new product.\n",
    "#            Remove a product by ID.\n",
    "#            Update the quantity of a product.\n",
    "#            Calculate the total value of the inventory (total price * quantity).\n",
    "#            List all products in the inventory.\n",
    "#\n",
    "#    Testing:\n",
    "#        Write a simple main function or test script to demonstrate:\n",
    "#            Adding a few products to the inventory.\n",
    "#            Updating product details.\n",
    "#            Removing a product.\n",
    "#            Displaying the inventory list and total inventory value."
   ]
  },
  {
   "cell_type": "code",
   "execution_count": null,
   "id": "5e6fa09b",
   "metadata": {},
   "outputs": [],
   "source": [
    "# importing dependendencies and creating a class to house all of the functions for this program.\n",
    "# also creating \"__init__\" function to havve the class first start by initizialzing itself.\n",
    "\n",
    "import numpy as np\n",
    "import pandas as pd\n",
    "\n",
    "class invmgmt:\n",
    "    def __init__(self):\n",
    "        self.invmgmt = {}"
   ]
  },
  {
   "cell_type": "code",
   "execution_count": null,
   "id": "d494974e",
   "metadata": {},
   "outputs": [],
   "source": [
    "# adding inv_add function to use the empty self.invmgmt list to then add the \n",
    "# self, item_id, item_name, stock, and price variables.\n",
    "\n",
    "class invmgmt:\n",
    "    def __init__(self):\n",
    "        self.invmgmt = {}\n",
    "\n",
    "    def inv_add(self, item_id, item_name, stock, price):\n",
    "        self.invmgmt[item_id] = {\"item_name\": item_name, \"stock\": stock, \"price\": price}"
   ]
  },
  {
   "cell_type": "code",
   "execution_count": null,
   "id": "5de0ac8d",
   "metadata": {},
   "outputs": [],
   "source": [
    "# adding update_inv fuction to update the inventory by checking the item name, stock, and price against the item being updated.\n",
    "# each item being added is if the item is not in the inventory, an error is given.\n",
    "\n",
    "class invmgmt:\n",
    "    def __init__(self):\n",
    "        self.invmgmt = {}\n",
    "\n",
    "    def inv_add(self, item_id, item_name, stock, price):\n",
    "        self.invmgmt[item_id] = {\"item_name\": item_name, \"stock\": stock, \"price\": price}\n",
    "\n",
    "    def update_inv(self, item_id, stock, price):\n",
    "        if item_id in self.invmgmt:\n",
    "            self.invmgmt[item_id][\"stock\"] = stock\n",
    "            self.invmgmt[item_id][\"price\"] = price\n",
    "        else:\n",
    "            print(\"Error - Item Not in Inventory\")"
   ]
  },
  {
   "cell_type": "code",
   "execution_count": null,
   "id": "4ecd63ba",
   "metadata": {},
   "outputs": [],
   "source": [
    "# adding item_details function to show a basic list of each item's name, stock count, and price. add info about f-string\n",
    "\n",
    "class invmgmt:\n",
    "    def __init__(self):\n",
    "        self.invmgmt = {}\n",
    "\n",
    "    def inv_add(self, item_id, item_name, stock, price):\n",
    "        self.invmgmt[item_id] = {\"item_name\": item_name, \"stock\": stock, \"price\": price}\n",
    "\n",
    "    def update_inv(self, item_id, stock, price):\n",
    "        if item_id in self.invmgmt:\n",
    "            self.invmgmt[item_id][\"stock\"] = stock\n",
    "            self.invmgmt[item_id][\"price\"] = price\n",
    "        else:\n",
    "            print(\"Error - Item Not in Inventory\")\n",
    "\n",
    "    def item_details(self, item_id):\n",
    "        if item_id in self.invmgmt:\n",
    "            item = self.invmgmt[item_id]\n",
    "            return f\"Product Name: {item['item_name']}, Stock Count: {item['stock']}, Price: {item['price']}\"\n",
    "        else:\n",
    "            return \"Error - Item Not in Inventory\""
   ]
  },
  {
   "cell_type": "code",
   "execution_count": null,
   "id": "9e0cb8e2",
   "metadata": {},
   "outputs": [],
   "source": [
    "# adding get_inventory function to return the info that is added to the item_id, item varibles\n",
    "# it is a tuple containing each piece of info for each item that is added to the variables\n",
    "# it will be used later to modify the input info to be able to use in a pandas dataframe\n",
    "\n",
    "class invmgmt:\n",
    "    def __init__(self):\n",
    "        self.invmgmt = {}\n",
    "\n",
    "    def inv_add(self, item_id, item_name, stock, price):\n",
    "        self.invmgmt[item_id] = {\"item_name\": item_name, \"stock\": stock, \"price\": price}\n",
    "\n",
    "    def update_inv(self, item_id, stock, price):\n",
    "        if item_id in self.invmgmt:\n",
    "            self.invmgmt[item_id][\"stock\"] = stock\n",
    "            self.invmgmt[item_id][\"price\"] = price\n",
    "        else:\n",
    "            print(\"Error - Item Not in Inventory\")\n",
    "\n",
    "    def item_details(self, item_id):\n",
    "        if item_id in self.invmgmt:\n",
    "            item = self.invmgmt[item_id]\n",
    "            return f\"Product Name: {item['item_name']}, Stock Count: {item['stock']}, Price: {item['price']}\"\n",
    "        else:\n",
    "            return \"Error - Item Not in Inventory\"\n",
    "\n",
    "    def get_inventory(self):\n",
    "        return [(item_id, item['item_name'], item['stock'], item['price']) for item_id, item in self.invmgmt.items()]"
   ]
  },
  {
   "cell_type": "code",
   "execution_count": 1,
   "id": "1240643b",
   "metadata": {},
   "outputs": [
    {
     "name": "stdout",
     "output_type": "stream",
     "text": [
      "Item Details:\n",
      "Product Name: Screws, Stock Count: 500, Price: 0.25\n",
      "\n",
      "Update the price of the item code - 'i1':\n",
      "Product Name: Screws, Stock Count: 600, Price: 0.31\n"
     ]
    }
   ],
   "source": [
    "# using the entire invmgmt class to add and update an item in the inventory \"manually\"\n",
    "import numpy as np\n",
    "import pandas as pd\n",
    "\n",
    "class invmgmt:\n",
    "    def __init__(self):\n",
    "        self.invmgmt = {}\n",
    "\n",
    "    def inv_add(self, item_id, item_name, stock, price):\n",
    "        self.invmgmt[item_id] = {\"item_name\": item_name, \"stock\": stock, \"price\": price}\n",
    "\n",
    "    def update_inv(self, item_id, stock, price):\n",
    "        if item_id in self.invmgmt:\n",
    "            self.invmgmt[item_id][\"stock\"] = stock\n",
    "            self.invmgmt[item_id][\"price\"] = price\n",
    "        else:\n",
    "            print(\"Error - Item Not in Inventory\")\n",
    "\n",
    "    def item_details(self, item_id):\n",
    "        if item_id in self.invmgmt:\n",
    "            item = self.invmgmt[item_id]\n",
    "            return f\"Product Name: {item['item_name']}, Stock Count: {item['stock']}, Price: {item['price']}\"\n",
    "        else:\n",
    "            return \"Error - Item Not in Inventory\"\n",
    "\n",
    "    def get_inventory(self):\n",
    "        return [(item_id, item['item_name'], item['stock'], item['price']) for item_id, item in self.invmgmt.items()]\n",
    "\n",
    "# adding inv variable to utilize invmgmt class functions\n",
    "inv = invmgmt()\n",
    "\n",
    "# adding items manually - wanting to modify this to take in the updates through an input function instead\n",
    "# and then update\n",
    "inv.inv_add(\"i1\", \"Screws\", 500, 0.25)\n",
    "inv.inv_add(\"i2\", \"Nails\", 500, 0.05)\n",
    "inv.inv_add(\"i3\", \"Hammers\", 165, 7.99)\n",
    "inv.inv_add(\"i4\", \"Wrenches\", 132, 9.25)\n",
    "\n",
    "print(\"Item Details:\")\n",
    "print(inv.item_details(\"i1\"))\n",
    "print(\"\\nUpdate the price of the item code - 'i1':\")\n",
    "inv.update_inv(\"i1\", 600, 0.31)\n",
    "print(inv.item_details(\"i1\"))"
   ]
  },
  {
   "cell_type": "code",
   "execution_count": 1,
   "id": "f833ac2f",
   "metadata": {},
   "outputs": [
    {
     "name": "stdin",
     "output_type": "stream",
     "text": [
      "Enter item ID:  i1\n",
      "Enter item name:  hammers\n",
      "Enter stock count:  392\n",
      "Enter price:  9.99\n"
     ]
    },
    {
     "name": "stdout",
     "output_type": "stream",
     "text": [
      "\n",
      "Current Inventory:\n",
      "{'Item ID': 'i1', 'Item Name': 'hammers', 'Stock': 392, 'Price': 9.99}\n",
      "\n",
      "Update the details of an item:\n"
     ]
    },
    {
     "name": "stdin",
     "output_type": "stream",
     "text": [
      "Enter item ID to update:  i1\n",
      "Enter new stock count:  38\n",
      "Enter new price:  3.3\n"
     ]
    },
    {
     "name": "stdout",
     "output_type": "stream",
     "text": [
      "Item ID Item Name  Stock  Price\n",
      "i1      hammers   38     3.3   \n"
     ]
    }
   ],
   "source": [
    "import numpy as np\n",
    "import pandas as pd\n",
    "\n",
    "class invmgmt:\n",
    "    def __init__(self):\n",
    "        self.invmgmt = {}\n",
    "\n",
    "    def inv_add(self, item_id, item_name, stock, price):\n",
    "        self.invmgmt[item_id] = {\"item_name\": item_name, \"stock\": stock, \"price\": price}\n",
    "\n",
    "    def update_inv(self, item_id, stock, price):\n",
    "        if item_id in self.invmgmt:\n",
    "            self.invmgmt[item_id][\"stock\"] = stock\n",
    "            self.invmgmt[item_id][\"price\"] = price\n",
    "        else:\n",
    "            print(\"Error - Item Not in Inventory\")\n",
    "\n",
    "    def item_details(self, item_id):\n",
    "        if item_id in self.invmgmt:\n",
    "            item = self.invmgmt[item_id]\n",
    "            return f\"Product Name: {item['item_name']}, Stock Count: {item['stock']}, Price: {item['price']}\"\n",
    "        else:\n",
    "            return \"Error - Item Not in Inventory\"\n",
    "\n",
    "    def get_inventory(self):\n",
    "        return [{\"Item ID\": item_id, \"Item Name\": item['item_name'], \"Stock\": item['stock'], \"Price\": item['price']} for item_id, item in self.invmgmt.items()]\n",
    "\n",
    "    def add_item_input(self):\n",
    "        item_id = input(\"Enter item ID: \")\n",
    "        item_name = input(\"Enter item name: \")\n",
    "        stock = int(input(\"Enter stock count: \"))\n",
    "        price = float(input(\"Enter price: \"))\n",
    "        self.inv_add(item_id, item_name, stock, price)\n",
    "\n",
    "# Adding inv variable to utilize invmgmt class functions\n",
    "inv = invmgmt()\n",
    "\n",
    "# Adding items through user input\n",
    "inv.add_item_input()\n",
    "\n",
    "# Printing current inventory - should change it to look nicer\n",
    "print(\"\\nCurrent Inventory:\")\n",
    "for item in inv.get_inventory():\n",
    "    print(item)\n",
    "\n",
    "# Updating item details - should have this be a y/n input\n",
    "print(\"\\nUpdate the details of an item:\")\n",
    "item_id = input(\"Enter item ID to update: \")\n",
    "stock = int(input(\"Enter new stock count: \"))\n",
    "price = float(input(\"Enter new price: \"))\n",
    "inv.update_inv(item_id, stock, price)\n",
    "\n",
    "# Creating DataFrame to display inventory\n",
    "df_info = inv.get_inventory()\n",
    "dataframe = pd.DataFrame(df_info)\n",
    "\n",
    "# Displaying DataFrame\n",
    "print(dataframe)"
   ]
  },
  {
   "cell_type": "code",
   "execution_count": 4,
   "id": "7ff4840b",
   "metadata": {},
   "outputs": [
    {
     "name": "stdout",
     "output_type": "stream",
     "text": [
      "  Item ID Item Name  Stock  Price\n",
      "0      i1       ham     39   1.99\n"
     ]
    }
   ],
   "source": [
    "import numpy as np\n",
    "import pandas as pd\n",
    "\n",
    "class invmgmt:\n",
    "    def __init__(self):\n",
    "        self.invmgmt = {}\n",
    "\n",
    "    def inv_add(self, item_id, item_name, stock, price):\n",
    "        self.invmgmt[item_id] = {\"item_name\": item_name, \"stock\": stock, \"price\": price}\n",
    "\n",
    "    def update_inv(self, item_id, stock, price):\n",
    "        if item_id in self.invmgmt:\n",
    "            self.invmgmt[item_id][\"stock\"] = stock\n",
    "            self.invmgmt[item_id][\"price\"] = price\n",
    "        else:\n",
    "            print(\"Error - Item Not in Inventory\")\n",
    "\n",
    "    def item_details(self, item_id):\n",
    "        if item_id in self.invmgmt:\n",
    "            item = self.invmgmt[item_id]\n",
    "            return f\"Product Name: {item['item_name']}, Stock Count: {item['stock']}, Price: {item['price']}\"\n",
    "        else:\n",
    "            return \"Error - Item Not in Inventory\"\n",
    "\n",
    "    def get_inventory(self):\n",
    "        return [{\"Item ID\": item_id, \"Item Name\": item['item_name'], \"Stock\": item['stock'], \"Price\": item['price']} for item_id, item in self.invmgmt.items()]\n",
    "\n",
    "    def add_item_input(self):\n",
    "        item_id = input(\"Enter item ID: \")\n",
    "        item_name = input(\"Enter item name: \")\n",
    "        stock = int(input(\"Enter stock count: \"))\n",
    "        price = float(input(\"Enter price: \"))\n",
    "        self.inv_add(item_id, item_name, stock, price)\n",
    "\n",
    "# Adding inv variable to utilize invmgmt class functions\n",
    "inv = invmgmt()\n",
    "\n",
    "# Adding items through user input\n",
    "inv.add_item_input()\n",
    "\n",
    "# Printing current inventory - should change it to look nicer\n",
    "print(\"\\nCurrent Inventory:\")\n",
    "for item in inv.get_inventory():\n",
    "    print(item)\n",
    "\n",
    "# Updating item details - should have this be a y/n input\n",
    "print(\"\\nUpdate the details of an item:\")\n",
    "item_id = input(\"Enter item ID to update: \")\n",
    "stock = int(input(\"Enter new stock count: \"))\n",
    "price = float(input(\"Enter new price: \"))\n",
    "inv.update_inv(item_id, stock, price)\n",
    "\n",
    "# putting the info pulled from the into a dataframe - first working dataframe that shows the stock count and info.\n",
    "# it is showing a 0 under the Item ID column, I need to remove that and make the columns indented to the left.\n",
    "df_info = inv.get_inventory()\n",
    "dataframe = pd.DataFrame(df_info, columns=[\"Item ID\", \"Item Name\", \"Stock\", \"Price\"])\n",
    "print(dataframe)"
   ]
  },
  {
   "cell_type": "code",
   "execution_count": 6,
   "id": "655a1aa9",
   "metadata": {},
   "outputs": [
    {
     "name": "stdin",
     "output_type": "stream",
     "text": [
      "Enter item ID:  i1\n",
      "Enter item name:  wrenches\n",
      "Enter stock count:  383\n",
      "Enter price:  2.99\n"
     ]
    },
    {
     "name": "stdout",
     "output_type": "stream",
     "text": [
      "\n",
      "Current Inventory:\n",
      "{'Item ID': 'i1', 'Item Name': 'wrenches', 'Stock': 383, 'Price': 2.99}\n"
     ]
    },
    {
     "name": "stdin",
     "output_type": "stream",
     "text": [
      "\n",
      "Would you like to update an item? Y/N:  N\n"
     ]
    },
    {
     "name": "stdout",
     "output_type": "stream",
     "text": [
      "\n",
      "Update the details of an item:\n"
     ]
    },
    {
     "ename": "KeyboardInterrupt",
     "evalue": "Interrupted by user",
     "output_type": "error",
     "traceback": [
      "\u001b[1;31m---------------------------------------------------------------------------\u001b[0m",
      "\u001b[1;31mKeyboardInterrupt\u001b[0m                         Traceback (most recent call last)",
      "\u001b[1;32m~\\AppData\\Local\\Temp\\ipykernel_24464\\513970046.py\u001b[0m in \u001b[0;36m<module>\u001b[1;34m\u001b[0m\n\u001b[0;32m     58\u001b[0m \u001b[1;33m\u001b[0m\u001b[0m\n\u001b[0;32m     59\u001b[0m \u001b[0mprint\u001b[0m\u001b[1;33m(\u001b[0m\u001b[1;34m\"\\nUpdate the details of an item:\"\u001b[0m\u001b[1;33m)\u001b[0m\u001b[1;33m\u001b[0m\u001b[1;33m\u001b[0m\u001b[0m\n\u001b[1;32m---> 60\u001b[1;33m \u001b[0mitem_id\u001b[0m \u001b[1;33m=\u001b[0m \u001b[0minput\u001b[0m\u001b[1;33m(\u001b[0m\u001b[1;34m\"Enter item ID to update: \"\u001b[0m\u001b[1;33m)\u001b[0m\u001b[1;33m\u001b[0m\u001b[1;33m\u001b[0m\u001b[0m\n\u001b[0m\u001b[0;32m     61\u001b[0m \u001b[0mstock\u001b[0m \u001b[1;33m=\u001b[0m \u001b[0mint\u001b[0m\u001b[1;33m(\u001b[0m\u001b[0minput\u001b[0m\u001b[1;33m(\u001b[0m\u001b[1;34m\"Enter new stock count: \"\u001b[0m\u001b[1;33m)\u001b[0m\u001b[1;33m)\u001b[0m\u001b[1;33m\u001b[0m\u001b[1;33m\u001b[0m\u001b[0m\n\u001b[0;32m     62\u001b[0m \u001b[0mprice\u001b[0m \u001b[1;33m=\u001b[0m \u001b[0mfloat\u001b[0m\u001b[1;33m(\u001b[0m\u001b[0minput\u001b[0m\u001b[1;33m(\u001b[0m\u001b[1;34m\"Enter new price: \"\u001b[0m\u001b[1;33m)\u001b[0m\u001b[1;33m)\u001b[0m\u001b[1;33m\u001b[0m\u001b[1;33m\u001b[0m\u001b[0m\n",
      "\u001b[1;32m~\\anaconda3\\lib\\site-packages\\ipykernel\\kernelbase.py\u001b[0m in \u001b[0;36mraw_input\u001b[1;34m(self, prompt)\u001b[0m\n\u001b[0;32m   1175\u001b[0m                 \u001b[1;34m\"raw_input was called, but this frontend does not support input requests.\"\u001b[0m\u001b[1;33m\u001b[0m\u001b[1;33m\u001b[0m\u001b[0m\n\u001b[0;32m   1176\u001b[0m             )\n\u001b[1;32m-> 1177\u001b[1;33m         return self._input_request(\n\u001b[0m\u001b[0;32m   1178\u001b[0m             \u001b[0mstr\u001b[0m\u001b[1;33m(\u001b[0m\u001b[0mprompt\u001b[0m\u001b[1;33m)\u001b[0m\u001b[1;33m,\u001b[0m\u001b[1;33m\u001b[0m\u001b[1;33m\u001b[0m\u001b[0m\n\u001b[0;32m   1179\u001b[0m             \u001b[0mself\u001b[0m\u001b[1;33m.\u001b[0m\u001b[0m_parent_ident\u001b[0m\u001b[1;33m[\u001b[0m\u001b[1;34m\"shell\"\u001b[0m\u001b[1;33m]\u001b[0m\u001b[1;33m,\u001b[0m\u001b[1;33m\u001b[0m\u001b[1;33m\u001b[0m\u001b[0m\n",
      "\u001b[1;32m~\\anaconda3\\lib\\site-packages\\ipykernel\\kernelbase.py\u001b[0m in \u001b[0;36m_input_request\u001b[1;34m(self, prompt, ident, parent, password)\u001b[0m\n\u001b[0;32m   1217\u001b[0m             \u001b[1;32mexcept\u001b[0m \u001b[0mKeyboardInterrupt\u001b[0m\u001b[1;33m:\u001b[0m\u001b[1;33m\u001b[0m\u001b[1;33m\u001b[0m\u001b[0m\n\u001b[0;32m   1218\u001b[0m                 \u001b[1;31m# re-raise KeyboardInterrupt, to truncate traceback\u001b[0m\u001b[1;33m\u001b[0m\u001b[1;33m\u001b[0m\u001b[0m\n\u001b[1;32m-> 1219\u001b[1;33m                 \u001b[1;32mraise\u001b[0m \u001b[0mKeyboardInterrupt\u001b[0m\u001b[1;33m(\u001b[0m\u001b[1;34m\"Interrupted by user\"\u001b[0m\u001b[1;33m)\u001b[0m \u001b[1;32mfrom\u001b[0m \u001b[1;32mNone\u001b[0m\u001b[1;33m\u001b[0m\u001b[1;33m\u001b[0m\u001b[0m\n\u001b[0m\u001b[0;32m   1220\u001b[0m             \u001b[1;32mexcept\u001b[0m \u001b[0mException\u001b[0m\u001b[1;33m:\u001b[0m\u001b[1;33m\u001b[0m\u001b[1;33m\u001b[0m\u001b[0m\n\u001b[0;32m   1221\u001b[0m                 \u001b[0mself\u001b[0m\u001b[1;33m.\u001b[0m\u001b[0mlog\u001b[0m\u001b[1;33m.\u001b[0m\u001b[0mwarning\u001b[0m\u001b[1;33m(\u001b[0m\u001b[1;34m\"Invalid Message:\"\u001b[0m\u001b[1;33m,\u001b[0m \u001b[0mexc_info\u001b[0m\u001b[1;33m=\u001b[0m\u001b[1;32mTrue\u001b[0m\u001b[1;33m)\u001b[0m\u001b[1;33m\u001b[0m\u001b[1;33m\u001b[0m\u001b[0m\n",
      "\u001b[1;31mKeyboardInterrupt\u001b[0m: Interrupted by user"
     ]
    }
   ],
   "source": [
    "import numpy as np\n",
    "import pandas as pd\n",
    "\n",
    "class invmgmt:\n",
    "    def __init__(self):\n",
    "        self.invmgmt = {}\n",
    "\n",
    "    def inv_add(self, item_id, item_name, stock, price):\n",
    "        self.invmgmt[item_id] = {\"item_name\": item_name, \"stock\": stock, \"price\": price}\n",
    "\n",
    "    def update_inv(self, item_id, stock, price):\n",
    "        if item_id in self.invmgmt:\n",
    "            self.invmgmt[item_id][\"stock\"] = stock\n",
    "            self.invmgmt[item_id][\"price\"] = price\n",
    "        else:\n",
    "            print(\"Error - Item Not in Inventory\")\n",
    "\n",
    "    def item_details(self, item_id):\n",
    "        if item_id in self.invmgmt:\n",
    "            item = self.invmgmt[item_id]\n",
    "            return f\"Product Name: {item['item_name']}, Stock Count: {item['stock']}, Price: {item['price']}\"\n",
    "        else:\n",
    "            return \"Error - Item Not in Inventory\"\n",
    "\n",
    "    def get_inventory(self):\n",
    "        return [{\"Item ID\": item_id, \"Item Name\": item['item_name'], \"Stock\": item['stock'], \"Price\": item['price']} for item_id, item in self.invmgmt.items()]\n",
    "\n",
    "    def add_item_input(self):\n",
    "        item_id = input(\"Enter item ID: \")\n",
    "        item_name = input(\"Enter item name: \")\n",
    "        stock = int(input(\"Enter stock count: \"))\n",
    "        price = float(input(\"Enter price: \"))\n",
    "        self.inv_add(item_id, item_name, stock, price)\n",
    "\n",
    "# Adding inv variable to utilize invmgmt class functions\n",
    "inv = invmgmt()\n",
    "\n",
    "# Adding items through user input\n",
    "inv.add_item_input()\n",
    "\n",
    "# Printing current inventory - should change it to look nicer\n",
    "print(\"\\nCurrent Inventory:\")\n",
    "for item in inv.get_inventory():\n",
    "    print(item)\n",
    "\n",
    "# Updating item details - should have this be a y/n input\n",
    "print(\"\\nUpdate the details of an item:\")\n",
    "item_id = input(\"Enter item ID to update: \")\n",
    "stock = int(input(\"Enter new stock count: \"))\n",
    "price = float(input(\"Enter new price: \"))\n",
    "inv.update_inv(item_id, stock, price)\n",
    "\n",
    "# putting the info pulled from the into a dataframe, need to notate that the index was showing a 0 and also modified it to be on the left\n",
    "df_info = inv.get_inventory()\n",
    "dataframe = pd.DataFrame(df_info, columns=[\"Item ID\", \"Item Name\", \"Stock\", \"Price\"])\n",
    "print(dataframe.to_string(index=False, justify='left'))"
   ]
  },
  {
   "cell_type": "code",
   "execution_count": 12,
   "id": "b01c2024",
   "metadata": {},
   "outputs": [
    {
     "name": "stdin",
     "output_type": "stream",
     "text": [
      "Enter item ID:  i1\n",
      "Enter item name:  wrench\n",
      "Enter stock count:  289\n",
      "Enter price:  2.99\n"
     ]
    },
    {
     "name": "stdout",
     "output_type": "stream",
     "text": [
      "\n",
      "Current Inventory:\n",
      "{'Item ID': 'i1', 'Item Name': 'wrench', 'Stock': 289, 'Price': 2.99}\n"
     ]
    },
    {
     "name": "stdin",
     "output_type": "stream",
     "text": [
      "\n",
      "Would you like to update an item? Y/N:  Y\n"
     ]
    },
    {
     "name": "stdout",
     "output_type": "stream",
     "text": [
      "\n",
      "Update the details of an item:\n"
     ]
    },
    {
     "name": "stdin",
     "output_type": "stream",
     "text": [
      "Enter item ID to update:  i1\n",
      "Enter new stock count:  wrench\n"
     ]
    },
    {
     "ename": "ValueError",
     "evalue": "invalid literal for int() with base 10: 'wrench'",
     "output_type": "error",
     "traceback": [
      "\u001b[1;31m---------------------------------------------------------------------------\u001b[0m",
      "\u001b[1;31mValueError\u001b[0m                                Traceback (most recent call last)",
      "\u001b[1;32m~\\AppData\\Local\\Temp\\ipykernel_24464\\3725438896.py\u001b[0m in \u001b[0;36m<module>\u001b[1;34m\u001b[0m\n\u001b[0;32m     51\u001b[0m         \u001b[0mprint\u001b[0m\u001b[1;33m(\u001b[0m\u001b[1;34m\"\\nUpdate the details of an item:\"\u001b[0m\u001b[1;33m)\u001b[0m\u001b[1;33m\u001b[0m\u001b[1;33m\u001b[0m\u001b[0m\n\u001b[0;32m     52\u001b[0m         \u001b[0mitem_id\u001b[0m \u001b[1;33m=\u001b[0m \u001b[0minput\u001b[0m\u001b[1;33m(\u001b[0m\u001b[1;34m\"Enter item ID to update: \"\u001b[0m\u001b[1;33m)\u001b[0m\u001b[1;33m\u001b[0m\u001b[1;33m\u001b[0m\u001b[0m\n\u001b[1;32m---> 53\u001b[1;33m         \u001b[0mstock\u001b[0m \u001b[1;33m=\u001b[0m \u001b[0mint\u001b[0m\u001b[1;33m(\u001b[0m\u001b[0minput\u001b[0m\u001b[1;33m(\u001b[0m\u001b[1;34m\"Enter new stock count: \"\u001b[0m\u001b[1;33m)\u001b[0m\u001b[1;33m)\u001b[0m\u001b[1;33m\u001b[0m\u001b[1;33m\u001b[0m\u001b[0m\n\u001b[0m\u001b[0;32m     54\u001b[0m         \u001b[0mprice\u001b[0m \u001b[1;33m=\u001b[0m \u001b[0mfloat\u001b[0m\u001b[1;33m(\u001b[0m\u001b[0minput\u001b[0m\u001b[1;33m(\u001b[0m\u001b[1;34m\"Enter new price: \"\u001b[0m\u001b[1;33m)\u001b[0m\u001b[1;33m)\u001b[0m\u001b[1;33m\u001b[0m\u001b[1;33m\u001b[0m\u001b[0m\n\u001b[0;32m     55\u001b[0m         \u001b[0minv\u001b[0m\u001b[1;33m.\u001b[0m\u001b[0mupdate_inv\u001b[0m\u001b[1;33m(\u001b[0m\u001b[0mitem_id\u001b[0m\u001b[1;33m,\u001b[0m \u001b[0mstock\u001b[0m\u001b[1;33m,\u001b[0m \u001b[0mprice\u001b[0m\u001b[1;33m)\u001b[0m\u001b[1;33m\u001b[0m\u001b[1;33m\u001b[0m\u001b[0m\n",
      "\u001b[1;31mValueError\u001b[0m: invalid literal for int() with base 10: 'wrench'"
     ]
    }
   ],
   "source": [
    "import numpy as np\n",
    "import pandas as pd\n",
    "\n",
    "class invmgmt:\n",
    "    def __init__(self):\n",
    "        self.invmgmt = {}\n",
    "\n",
    "    def inv_add(self, item_id, item_name, stock, price):\n",
    "        self.invmgmt[item_id] = {\"item_name\": item_name, \"stock\": stock, \"price\": price}\n",
    "\n",
    "    def update_inv(self, item_id, stock, price):\n",
    "        if item_id in self.invmgmt:\n",
    "            self.invmgmt[item_id][\"stock\"] = stock\n",
    "            self.invmgmt[item_id][\"price\"] = price\n",
    "        else:\n",
    "            print(\"Error - Item Not in Inventory\")\n",
    "\n",
    "    def item_details(self, item_id):\n",
    "        if item_id in self.invmgmt:\n",
    "            item = self.invmgmt[item_id]\n",
    "            return f\"Product Name: {item['item_name']}, Stock Count: {item['stock']}, Price: {item['price']}\"\n",
    "        else:\n",
    "            return \"Error - Item Not in Inventory\"\n",
    "\n",
    "    def get_inventory(self):\n",
    "        return [{\"Item ID\": item_id, \"Item Name\": item['item_name'], \"Stock\": item['stock'], \"Price\": item['price']} for item_id, item in self.invmgmt.items()]\n",
    "\n",
    "    def add_item_input(self):\n",
    "        item_id = input(\"Enter item ID: \")\n",
    "        item_name = input(\"Enter item name: \")\n",
    "        stock = int(input(\"Enter stock count: \"))\n",
    "        price = float(input(\"Enter price: \"))\n",
    "        self.inv_add(item_id, item_name, stock, price)\n",
    "\n",
    "# Adding inv variable to utilize invmgmt class functions\n",
    "inv = invmgmt()\n",
    "\n",
    "# Adding items through user input\n",
    "inv.add_item_input()\n",
    "\n",
    "# Printing current inventory - should change it to look nicer\n",
    "print(\"\\nCurrent Inventory:\")\n",
    "for item in inv.get_inventory():\n",
    "    print(item)\n",
    "\n",
    "# Updating item details using a while loop to take in input through a Y/N prompt\n",
    "while True:\n",
    "    yesnoinput = input(\"\\nWould you like to update an item? Y/N: \")\n",
    "\n",
    "    if yesnoinput.upper() == 'Y':\n",
    "        print(\"\\nUpdate the details of an item:\")\n",
    "        item_id = input(\"Enter item ID to update: \")\n",
    "        stock = int(input(\"Enter new stock count: \"))\n",
    "        price = float(input(\"Enter new price: \"))\n",
    "        inv.update_inv(item_id, stock, price)\n",
    "        break\n",
    "    elif yesnoinput.upper() == 'N':\n",
    "        break\n",
    "    else:\n",
    "        print(\"Invalid input. Please enter 'Y' or 'N'.\")"
   ]
  },
  {
   "cell_type": "code",
   "execution_count": null,
   "id": "3341bcf3-c5e3-44e3-8836-6912ceb341c9",
   "metadata": {},
   "outputs": [],
   "source": [
    "# putting the info pulled from the into a dataframe, need to notate that the index was showing a 0 and also modified it to be on the left\n",
    "df_info = inv.get_inventory()\n",
    "dataframe = pd.DataFrame(df_info, columns=[\"Item ID\", \"Item Name\", \"Stock\", \"Price\"])\n",
    "print(dataframe.to_string(index=False, justify='left'))"
   ]
  },
  {
   "cell_type": "code",
   "execution_count": null,
   "id": "c6506897-4562-4160-a270-3e94e83a6638",
   "metadata": {},
   "outputs": [],
   "source": []
  }
 ],
 "metadata": {
  "kernelspec": {
   "display_name": "Python 3 (ipykernel)",
   "language": "python",
   "name": "python3"
  },
  "language_info": {
   "codemirror_mode": {
    "name": "ipython",
    "version": 3
   },
   "file_extension": ".py",
   "mimetype": "text/x-python",
   "name": "python",
   "nbconvert_exporter": "python",
   "pygments_lexer": "ipython3",
   "version": "3.9.13"
  }
 },
 "nbformat": 4,
 "nbformat_minor": 5
}
