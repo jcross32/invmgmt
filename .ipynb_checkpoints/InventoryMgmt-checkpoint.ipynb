{
 "cells": [
  {
   "cell_type": "code",
   "execution_count": null,
   "id": "641a4e49",
   "metadata": {},
   "outputs": [],
   "source": [
    "#Create a simple inventory management system. The system should be able to handle basic operations for managing product inventory for a small store. The tasks should include adding new products, updating existing product information, calculating inventory values, and displaying all products in the inventory.\n",
    "#\n",
    "#Requirements:\n",
    "#\n",
    "#    Product:\n",
    "#        Each product should have an ID, a name, a quantity in stock, and a price per unit.\n",
    "#        Implement methods to update the product's quantity and price.\n",
    "#\n",
    "#    Inventory:\n",
    "#        Maintain a list of all products in the inventory.\n",
    "#        Implement methods to:\n",
    "#            Add a new product.\n",
    "#            Remove a product by ID.\n",
    "#            Update the quantity of a product.\n",
    "#            Calculate the total value of the inventory (total price * quantity).\n",
    "#            List all products in the inventory.\n",
    "#\n",
    "#    Testing:\n",
    "#        Write a simple main function or test script to demonstrate:\n",
    "#            Adding a few products to the inventory.\n",
    "#            Updating product details.\n",
    "#            Removing a product.\n",
    "#            Displaying the inventory list and total inventory value."
   ]
  },
  {
   "cell_type": "code",
   "execution_count": null,
   "id": "5e6fa09b",
   "metadata": {},
   "outputs": [],
   "source": [
    "# importing dependendencies and creating a class to house all of the functions for this program.\n",
    "# also creating \"__init__\" function to havve the class first start by initizialzing itself.\n",
    "\n",
    "import numpy as np\n",
    "import pandas as pd\n",
    "\n",
    "class invmgmt:\n",
    "    def __init__(self):\n",
    "        self.invmgmt = {}"
   ]
  },
  {
   "cell_type": "code",
   "execution_count": null,
   "id": "d494974e",
   "metadata": {},
   "outputs": [],
   "source": [
    "# adding inv_add function to use the empty self.invmgmt list to then add the \n",
    "# self, item_id, item_name, stock, and price variables.\n",
    "\n",
    "class invmgmt:\n",
    "    def __init__(self):\n",
    "        self.invmgmt = {}\n",
    "\n",
    "    def inv_add(self, item_id, item_name, stock, price):\n",
    "        self.invmgmt[item_id] = {\"item_name\": item_name, \"stock\": stock, \"price\": price}"
   ]
  },
  {
   "cell_type": "code",
   "execution_count": null,
   "id": "5de0ac8d",
   "metadata": {},
   "outputs": [],
   "source": [
    "# adding update_inv fuction to update the inventory by checking the item name, stock, and price against the item being updated.\n",
    "# each item being added is if the item is not in the inventory, an error is given.\n",
    "\n",
    "class invmgmt:\n",
    "    def __init__(self):\n",
    "        self.invmgmt = {}\n",
    "\n",
    "    def inv_add(self, item_id, item_name, stock, price):\n",
    "        self.invmgmt[item_id] = {\"item_name\": item_name, \"stock\": stock, \"price\": price}\n",
    "\n",
    "    def update_inv(self, item_id, stock, price):\n",
    "        if item_id in self.invmgmt:\n",
    "            self.invmgmt[item_id][\"stock\"] = stock\n",
    "            self.invmgmt[item_id][\"price\"] = price\n",
    "        else:\n",
    "            print(\"Error - Item Not in Inventory\")"
   ]
  },
  {
   "cell_type": "code",
   "execution_count": null,
   "id": "4ecd63ba",
   "metadata": {},
   "outputs": [],
   "source": [
    "# adding item_details function to show a basic list of each item's name, stock count, and price. add info about f-string\n",
    "\n",
    "class invmgmt:\n",
    "    def __init__(self):\n",
    "        self.invmgmt = {}\n",
    "\n",
    "    def inv_add(self, item_id, item_name, stock, price):\n",
    "        self.invmgmt[item_id] = {\"item_name\": item_name, \"stock\": stock, \"price\": price}\n",
    "\n",
    "    def update_inv(self, item_id, stock, price):\n",
    "        if item_id in self.invmgmt:\n",
    "            self.invmgmt[item_id][\"stock\"] = stock\n",
    "            self.invmgmt[item_id][\"price\"] = price\n",
    "        else:\n",
    "            print(\"Error - Item Not in Inventory\")\n",
    "\n",
    "    def item_details(self, item_id):\n",
    "        if item_id in self.invmgmt:\n",
    "            item = self.invmgmt[item_id]\n",
    "            return f\"Product Name: {item['item_name']}, Stock Count: {item['stock']}, Price: {item['price']}\"\n",
    "        else:\n",
    "            return \"Error - Item Not in Inventory\""
   ]
  },
  {
   "cell_type": "code",
   "execution_count": null,
   "id": "9e0cb8e2",
   "metadata": {},
   "outputs": [],
   "source": [
    "# adding get_inventory function to \n",
    "\n",
    "class invmgmt:\n",
    "    def __init__(self):\n",
    "        self.invmgmt = {}\n",
    "\n",
    "    def inv_add(self, item_id, item_name, stock, price):\n",
    "        self.invmgmt[item_id] = {\"item_name\": item_name, \"stock\": stock, \"price\": price}\n",
    "\n",
    "    def update_inv(self, item_id, stock, price):\n",
    "        if item_id in self.invmgmt:\n",
    "            self.invmgmt[item_id][\"stock\"] = stock\n",
    "            self.invmgmt[item_id][\"price\"] = price\n",
    "        else:\n",
    "            print(\"Error - Item Not in Inventory\")\n",
    "\n",
    "    def item_details(self, item_id):\n",
    "        if item_id in self.invmgmt:\n",
    "            item = self.invmgmt[item_id]\n",
    "            return f\"Product Name: {item['item_name']}, Stock Count: {item['stock']}, Price: {item['price']}\"\n",
    "        else:\n",
    "            return \"Error - Item Not in Inventory\"\n",
    "\n",
    "    def get_inventory(self):\n",
    "        return [(item_id, item['item_name'], item['stock'], item['price']) for item_id, item in self.invmgmt.items()]"
   ]
  },
  {
   "cell_type": "code",
   "execution_count": 1,
   "id": "1240643b",
   "metadata": {},
   "outputs": [
    {
     "name": "stdout",
     "output_type": "stream",
     "text": [
      "Item Details:\n",
      "Product Name: Screws, Stock Count: 500, Price: 0.25\n",
      "\n",
      "Update the price of the item code - 'i1':\n",
      "Product Name: Screws, Stock Count: 600, Price: 0.31\n"
     ]
    }
   ],
   "source": [
    "# using the entire invmgmt class to add and update an item in the inventory \"manually\"\n",
    "import numpy as np\n",
    "import pandas as pd\n",
    "\n",
    "class invmgmt:\n",
    "    def __init__(self):\n",
    "        self.invmgmt = {}\n",
    "\n",
    "    def inv_add(self, item_id, item_name, stock, price):\n",
    "        self.invmgmt[item_id] = {\"item_name\": item_name, \"stock\": stock, \"price\": price}\n",
    "\n",
    "    def update_inv(self, item_id, stock, price):\n",
    "        if item_id in self.invmgmt:\n",
    "            self.invmgmt[item_id][\"stock\"] = stock\n",
    "            self.invmgmt[item_id][\"price\"] = price\n",
    "        else:\n",
    "            print(\"Error - Item Not in Inventory\")\n",
    "\n",
    "    def item_details(self, item_id):\n",
    "        if item_id in self.invmgmt:\n",
    "            item = self.invmgmt[item_id]\n",
    "            return f\"Product Name: {item['item_name']}, Stock Count: {item['stock']}, Price: {item['price']}\"\n",
    "        else:\n",
    "            return \"Error - Item Not in Inventory\"\n",
    "\n",
    "    def get_inventory(self):\n",
    "        return [(item_id, item['item_name'], item['stock'], item['price']) for item_id, item in self.invmgmt.items()]\n",
    "\n",
    "# adding inv variable to utilize invmgmt class functions\n",
    "inv = invmgmt()\n",
    "\n",
    "# adding items manually - wanting to modify this to take in the updates through an input function instead\n",
    "# and then update\n",
    "inv.inv_add(\"i1\", \"Screws\", 500, 0.25)\n",
    "inv.inv_add(\"i2\", \"Nails\", 500, 0.05)\n",
    "inv.inv_add(\"i3\", \"Hammers\", 165, 7.99)\n",
    "inv.inv_add(\"i4\", \"Wrenches\", 132, 9.25)\n",
    "\n",
    "print(\"Item Details:\")\n",
    "print(inv.item_details(\"i1\"))\n",
    "print(\"\\nUpdate the price of the item code - 'i1':\")\n",
    "inv.update_inv(\"i1\", 600, 0.31)\n",
    "print(inv.item_details(\"i1\"))"
   ]
  },
  {
   "cell_type": "code",
   "execution_count": 3,
   "id": "f833ac2f",
   "metadata": {},
   "outputs": [
    {
     "name": "stdin",
     "output_type": "stream",
     "text": [
      "Enter item ID:  i1\n",
      "Enter item name:  ham\n",
      "Enter stock count:  29\n",
      "Enter price:  1.09\n"
     ]
    },
    {
     "name": "stdout",
     "output_type": "stream",
     "text": [
      "\n",
      "Current Inventory:\n",
      "{'Item ID': 'i1', 'Item Name': 'ham', 'Stock': 29, 'Price': 1.09}\n",
      "\n",
      "Update the details of an item:\n"
     ]
    },
    {
     "name": "stdin",
     "output_type": "stream",
     "text": [
      "Enter item ID to update:  i1\n",
      "Enter new stock count:  39\n",
      "Enter new price:  1.99\n"
     ]
    },
    {
     "name": "stdout",
     "output_type": "stream",
     "text": [
      "  Item ID Item Name  Stock  Price\n",
      "0      i1       ham     39   1.99\n"
     ]
    }
   ],
   "source": [
    "import numpy as np\n",
    "import pandas as pd\n",
    "\n",
    "class invmgmt:\n",
    "    def __init__(self):\n",
    "        self.invmgmt = {}\n",
    "\n",
    "    def inv_add(self, item_id, item_name, stock, price):\n",
    "        self.invmgmt[item_id] = {\"item_name\": item_name, \"stock\": stock, \"price\": price}\n",
    "\n",
    "    def update_inv(self, item_id, stock, price):\n",
    "        if item_id in self.invmgmt:\n",
    "            self.invmgmt[item_id][\"stock\"] = stock\n",
    "            self.invmgmt[item_id][\"price\"] = price\n",
    "        else:\n",
    "            print(\"Error - Item Not in Inventory\")\n",
    "\n",
    "    def item_details(self, item_id):\n",
    "        if item_id in self.invmgmt:\n",
    "            item = self.invmgmt[item_id]\n",
    "            return f\"Product Name: {item['item_name']}, Stock Count: {item['stock']}, Price: {item['price']}\"\n",
    "        else:\n",
    "            return \"Error - Item Not in Inventory\"\n",
    "\n",
    "    def get_inventory(self):\n",
    "        return [{\"Item ID\": item_id, \"Item Name\": item['item_name'], \"Stock\": item['stock'], \"Price\": item['price']} for item_id, item in self.invmgmt.items()]\n",
    "\n",
    "    def add_item_input(self):\n",
    "        item_id = input(\"Enter item ID: \")\n",
    "        item_name = input(\"Enter item name: \")\n",
    "        stock = int(input(\"Enter stock count: \"))\n",
    "        price = float(input(\"Enter price: \"))\n",
    "        self.inv_add(item_id, item_name, stock, price)\n",
    "\n",
    "# Adding inv variable to utilize invmgmt class functions\n",
    "inv = invmgmt()\n",
    "\n",
    "# Adding items through user input\n",
    "inv.add_item_input()\n",
    "\n",
    "# Printing current inventory - should change it to look nicer\n",
    "print(\"\\nCurrent Inventory:\")\n",
    "for item in inv.get_inventory():\n",
    "    print(item)\n",
    "\n",
    "# Updating item details\n",
    "print(\"\\nUpdate the details of an item:\")\n",
    "item_id = input(\"Enter item ID to update: \")\n",
    "stock = int(input(\"Enter new stock count: \"))\n",
    "price = float(input(\"Enter new price: \"))\n",
    "inv.update_inv(item_id, stock, price)\n",
    "\n",
    "# Creating DataFrame to display inventory\n",
    "df_info = inv.get_inventory()\n",
    "dataframe = pd.DataFrame(df_info)\n",
    "\n",
    "# Displaying DataFrame\n",
    "print(dataframe)"
   ]
  },
  {
   "cell_type": "code",
   "execution_count": 4,
   "id": "7ff4840b",
   "metadata": {},
   "outputs": [
    {
     "name": "stdout",
     "output_type": "stream",
     "text": [
      "  Item ID Item Name  Stock  Price\n",
      "0      i1       ham     39   1.99\n"
     ]
    }
   ],
   "source": [
    "# putting the info pulled from the into a dataframe - first working dataframe that shows the stock count and info.\n",
    "# it is showing a 0 under the Item ID column, I need to remove that and make the columns indented to the left.\n",
    "df_info = inv.get_inventory()\n",
    "dataframe = pd.DataFrame(df_info, columns=[\"Item ID\", \"Item Name\", \"Stock\", \"Price\"])\n",
    "print(dataframe)"
   ]
  },
  {
   "cell_type": "code",
   "execution_count": 5,
   "id": "655a1aa9",
   "metadata": {},
   "outputs": [
    {
     "name": "stdout",
     "output_type": "stream",
     "text": [
      "Item ID Item Name  Stock  Price\n",
      "i1      ham       39     1.99  \n"
     ]
    }
   ],
   "source": [
    "# putting the info pulled from the into a dataframe, need to notate that the index was showing a 0 and also modified it to be on the left\n",
    "df_info = inv.get_inventory()\n",
    "dataframe = pd.DataFrame(df_info, columns=[\"Item ID\", \"Item Name\", \"Stock\", \"Price\"])\n",
    "print(dataframe.to_string(index=False, justify='left'))"
   ]
  },
  {
   "cell_type": "code",
   "execution_count": null,
   "id": "b01c2024",
   "metadata": {},
   "outputs": [],
   "source": []
  }
 ],
 "metadata": {
  "kernelspec": {
   "display_name": "Python 3 (ipykernel)",
   "language": "python",
   "name": "python3"
  },
  "language_info": {
   "codemirror_mode": {
    "name": "ipython",
    "version": 3
   },
   "file_extension": ".py",
   "mimetype": "text/x-python",
   "name": "python",
   "nbconvert_exporter": "python",
   "pygments_lexer": "ipython3",
   "version": "3.9.13"
  }
 },
 "nbformat": 4,
 "nbformat_minor": 5
}
